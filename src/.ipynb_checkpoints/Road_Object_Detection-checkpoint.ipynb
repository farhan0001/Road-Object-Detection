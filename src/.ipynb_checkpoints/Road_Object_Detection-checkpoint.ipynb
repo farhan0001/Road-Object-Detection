{
 "cells": [
  {
   "cell_type": "code",
   "execution_count": 29,
   "id": "499b61d0-85e9-44a1-837a-435d65bfa0b9",
   "metadata": {},
   "outputs": [],
   "source": [
    "import cv2 as cv\n",
    "import tkinter as tk\n",
    "import tkinter.font as tkFont\n",
    "import os"
   ]
  },
  {
   "cell_type": "code",
   "execution_count": 37,
   "id": "0ff88120-4193-4c18-868b-37e97c1c3218",
   "metadata": {},
   "outputs": [],
   "source": [
    "def resize_window(width,height):\n",
    "    screen_width = window.winfo_screenwidth()\n",
    "    screen_height = window.winfo_screenheight()\n",
    "    x = (screen_width // 2) - (width // 2)\n",
    "    y = (screen_height // 2) - (height // 2)\n",
    "    window.geometry(f'{width}x{height}+{x}+{y}')\n",
    "window = tk.Tk()\n",
    "window.title('Road Object Detection')\n",
    "resize_window(700,500)\n",
    "window.wm_iconbitmap('../assets/Logo/Detection.ico')\n",
    "window.resizable(False,False)\n",
    "window.configure(bg=\"#53868B\")\n",
    "\n",
    "heading = tk.Label(window, text=\"Road Object Detection\", font=(\"Arial\",18,\"bold\"), fg=\"white\", bg=\"#53868B\")\n",
    "heading.pack(side=\"top\", pady=20)\n",
    "\n",
    "normal_font = tkFont.Font(family=\"Arial\",size=10,weight=tkFont.NORMAL)\n",
    "\n",
    "detection_algo_list = os.listdir('../assets/Trained XML Files/')\n",
    "categories_name = ['Cars','Bus','Two Wheeler','Pedestrian']\n",
    "video_list = os.listdir('../assets/Video Files/')\n",
    "\n",
    "category_selected = tk.StringVar(value=\"Please Select a Category\")\n",
    "\n",
    "window.mainloop()"
   ]
  },
  {
   "cell_type": "code",
   "execution_count": 18,
   "id": "642fc32c-2469-40d1-9b7d-d24bd4e40218",
   "metadata": {},
   "outputs": [],
   "source": [
    "cap = cv.VideoCapture('../assets/Video Files/Main Project_Main Project_Car Detection_video1.avi')\n",
    "classifier = cv.CascadeClassifier('../assets/Trained XML Files/cars.xml')\n",
    "\n",
    "while cap.isOpened():\n",
    "    ret,frame = cap.read()\n",
    "    if ret == True:\n",
    "        frame = cv.resize(frame,(600,400))\n",
    "        grey_image = cv.cvtColor(frame,cv.COLOR_BGR2GRAY)\n",
    "        detected_objects = classifier.detectMultiScale(grey_image,1.2,3)\n",
    "        for (x,y,w,h) in detected_objects:\n",
    "            cv.rectangle(frame,(x,y),(x+w,y+h),(0,0,255),3)\n",
    "        cv.imshow(\"Road Passage\",frame)\n",
    "        if cv.waitKey(25) & 0xff == ord('q'):\n",
    "            break;\n",
    "    else:\n",
    "        break\n",
    "\n",
    "cap.release()\n",
    "cv.destroyAllWindows()"
   ]
  },
  {
   "cell_type": "code",
   "execution_count": null,
   "id": "7810a577-04f6-4121-8c8f-9890f9db210c",
   "metadata": {},
   "outputs": [],
   "source": []
  }
 ],
 "metadata": {
  "kernelspec": {
   "display_name": "Python 3 (ipykernel)",
   "language": "python",
   "name": "python3"
  },
  "language_info": {
   "codemirror_mode": {
    "name": "ipython",
    "version": 3
   },
   "file_extension": ".py",
   "mimetype": "text/x-python",
   "name": "python",
   "nbconvert_exporter": "python",
   "pygments_lexer": "ipython3",
   "version": "3.12.4"
  }
 },
 "nbformat": 4,
 "nbformat_minor": 5
}
